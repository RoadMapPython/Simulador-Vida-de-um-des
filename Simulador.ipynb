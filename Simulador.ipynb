{
  "nbformat": 4,
  "nbformat_minor": 0,
  "metadata": {
    "colab": {
      "name": "Simulador",
      "provenance": [],
      "authorship_tag": "ABX9TyPXYM0IZkm8RTUiGzyPxpFL",
      "include_colab_link": true
    },
    "kernelspec": {
      "name": "python3",
      "display_name": "Python 3"
    },
    "language_info": {
      "name": "python"
    }
  },
  "cells": [
    {
      "cell_type": "markdown",
      "metadata": {
        "id": "view-in-github",
        "colab_type": "text"
      },
      "source": [
        "<a href=\"https://colab.research.google.com/github/RoadMapPython/Simulador-Vida-de-um-des/blob/main/Simulador.ipynb\" target=\"_parent\"><img src=\"https://colab.research.google.com/assets/colab-badge.svg\" alt=\"Open In Colab\"/></a>"
      ]
    },
    {
      "cell_type": "markdown",
      "metadata": {
        "id": "YRN4W0ZcUtv6"
      },
      "source": [
        "\n",
        "\n",
        "Maiores explicações e comentários sobre este código encontram-se disponíveis em: "
      ]
    },
    {
      "cell_type": "markdown",
      "metadata": {
        "id": "62FW4RdIUtpU"
      },
      "source": [
        "**Resolvendo Atividade 2** - *simulador de vida de um desenvolvedor* "
      ]
    },
    {
      "cell_type": "markdown",
      "metadata": {
        "id": "7-VFDhHEUthj"
      },
      "source": [
        "/ Irei fazer uma breve introdução sobre python, o pip, o github antes de começarmos a introduzir o codigo em si. /"
      ]
    },
    {
      "cell_type": "markdown",
      "metadata": {
        "id": "SmUGe6w0UtYm"
      },
      "source": [
        "________________________________________________________________________________________\n",
        "**Introduzindo python**\n",
        "_______________________________________________________________________________________\n",
        "A linguagem de programação Python tem uma ampla gama de construções sintáticas, \n",
        "funções de biblioteca padrão e recursos de ambiente de desenvolvimento interativo. Felizmente, você pode ignorar a maior parte disso(urfa), podemos \n",
        "aprender o suficiente para escrever alguns pequenos programas úteis, como uma calculadora por exemplo , que é bem simples , ou um jogo de jokenpo, que nosso amigo Emanoel abordou na live dele, foi preciso um conhecimento basico para ter o entendimento da tarefa, mas fique tranquilo pois é bem simples e facil de aprender.\n",
        "\n",
        "Como um mago em treinamento, você pode pensar que esses conceitos parecem arcanos e tediosos, mas com algum conhecimento e prática, você será capaz de comandar seu computador como uma varinha mágica e realizar feitos incríveis.\n",
        "\n",
        "O software está no centro de tantas ferramentas que usamos hoje: quase todo mundo usa redes sociais para se comunicar, muitas pessoas têm computadores conectados à internet em seus telefones, e a maioria dos trabalhos de escritório envolvem interagir com um computador para fazer o trabalho.\n",
        "\n",
        "A ansiedade mais comum sobre aprender a programar é a noção de que requer muita matemática. Na verdade, a maioria da programação não requer matemática além da aritmética básica. Na verdade, ser bom em programação não é tão diferente de ser bom em resolver quebra-cabeças, requer mais a lógica do que a propria matematica de numeros em si .\n",
        "\n",
        "Lógica de programação é o modo como se escreve um programa de computador, um algoritmo. Um algoritmo é uma sequência de passos para se executar uma função. Um exemplo de algoritmo, fora da computação, é uma receita de bolo. Na receita, devem-se seguir os passos para o bolo ficar pronto e sem nenhum problema."
      ]
    },
    {
      "cell_type": "markdown",
      "metadata": {
        "id": "1iVImXDhUtL9"
      },
      "source": [
        "_________________________________________________________________________________________\n",
        " **-Introduzindo GitHub**\n",
        "_________________________________________________________________________________________\n",
        "Github é um termo bastante utilizado na área de programação , você que está querendo seguir a área de programação vai escutar muito isso , em seus projetos e trabalhos , mas ai você pensa \"nossa mais coisa? vai dificultar minha vida\" , meu queridissimo e minha queridissima , isso não vai dificultar , vai facilitar e muito a sua vida !\n",
        "Ah Juan lembrei ,você está falando de Git ? Não ,estou falando de github  , git irei citar um pouco mais para frente , github é uma plataforma gratuita , uma das principais plataformas de hospedagem e gerenciamento de codigos da internet.\n",
        "Os projetos são hospedados em \"repositórios\",que podem ter acesso publico ou privado , no nosso projeto vocês terão acesso aos repositorios que serao publicados a medida do Roadmap.\n",
        "No finalzinho desta aula quando terminarmos nosso código iremos colocar no nosso repositório."
      ]
    },
    {
      "cell_type": "markdown",
      "metadata": {
        "id": "d6_cy15YUs7f"
      },
      "source": [
        "________________________________________________________________________________________\n",
        "**Introduzindo PIP**\n",
        "_________________________________________________________________________________________\n",
        "\n",
        "Pip é um sistema de gerenciamento de pacotes usado para instalar e gerenciar pacotes de software escritos em Python. Muitos pacotes podem ser encontrados na fonte padrão para pacotes e suas dependências.\n",
        "Para vermos os pacotes de python que os programadores utilizam iremos pesquisar no google Pypi , que é utilizado para entrar utilizar ou publicar pacotes em python, lá podemos pesquisar sobre os pacotes , e ver como funciona cada um , o criador sempre deixa informações para que a pessoa que vai usar saiba como funciona , como por exemplo o colorama que é um pacote muito legal para usarmos durante a construção de algum codigo futuro , pena que não funciona esse no colab :c , mas pode ser utilizado no idle ,atom e outros compiladores."
      ]
    },
    {
      "cell_type": "markdown",
      "metadata": {
        "id": "IgVGKem7yG8s"
      },
      "source": [
        "Iremos fazer o uso da biblioteca \"emoji\" ,e demonstrar no colab também!\n",
        "\n"
      ]
    },
    {
      "cell_type": "code",
      "metadata": {
        "id": "GsGm96kiyMPL"
      },
      "source": [
        "!pip install emoji --upgrade"
      ],
      "execution_count": null,
      "outputs": []
    },
    {
      "cell_type": "code",
      "metadata": {
        "id": "-8g_wvzqyPwM"
      },
      "source": [
        "import emoji\n",
        "print(emoji.emojize('Python é :thumbs_up:'))"
      ],
      "execution_count": null,
      "outputs": []
    },
    {
      "cell_type": "markdown",
      "metadata": {
        "id": "1uSWEbdVyTdI"
      },
      "source": [
        "☲☲☲☲☲☲☲☲☲☲☲☲☲☲☲☲☲☲☲☲☲☲☲☲☲☲☲☲☲☲☲☲☲☲☲☲☲☲☲☲☲☲☲☲☲☲☲☲☲☲☲☲☲☲☲☲☲☲☲☲☲☲☲☲☲☲☲☲☲☲"
      ]
    },
    {
      "cell_type": "markdown",
      "metadata": {
        "id": "Co21Db0myXKO"
      },
      "source": [
        "Após a breve introdução, iremos agora introduzir a atividade imaginando exemplos de situações cenarios que um desenvolvedor é submetido , e se ele precisa seguir ou não .\n",
        "\n",
        "exemplos informados na live : \"Dormir\" \"tomar café\" \"Pagar aluguel\" \"Contrato de uma empresa\"\n",
        "\n",
        "e agora vamos pensar nos impactos que cada situação tem se for realizada ou não."
      ]
    },
    {
      "cell_type": "markdown",
      "metadata": {
        "id": "LxZDeSDByWM1"
      },
      "source": [
        "☲☲☲☲☲☲☲☲☲☲☲☲☲☲☲☲☲☲☲☲☲☲☲☲☲☲☲☲☲☲☲☲☲☲☲☲☲☲☲☲☲☲☲☲☲☲☲☲☲☲☲☲☲☲☲☲☲☲☲☲☲☲☲☲☲☲☲☲☲☲"
      ]
    },
    {
      "cell_type": "markdown",
      "metadata": {
        "id": "VVlWZNpwycU0"
      },
      "source": [
        "Nesta live iremos realizar um codigo relacionado a essa atividade do \"python para quem tem pressa\"\n",
        "\n",
        "Começando no topo, o software Python executa cada linha de código (algumas linhas são executadas apenas se uma determinada condição for verdadeira ou então python executar alguma outra linha) até chegar à parte inferior, e na atividade pede o seguinte.\n",
        "\n",
        "E agora iremos pensar na primeira parte do enunciado da atividade:\n",
        "\n",
        "Construa um jogo no qual o personagem principal é um desenvolvedor que tem 4 itens na mochila: saúde (S), dinheiro (D), vida social (VS) e fama (F)."
      ]
    },
    {
      "cell_type": "markdown",
      "metadata": {
        "id": "IBF4O4DyyVwY"
      },
      "source": [
        "☲☲☲☲☲☲☲☲☲☲☲☲☲☲☲☲☲☲☲☲☲☲☲☲☲☲☲☲☲☲☲☲☲☲☲☲☲☲☲☲☲☲☲☲☲☲☲☲☲☲☲☲☲☲☲☲☲☲☲☲☲☲☲☲☲☲☲☲☲☲"
      ]
    },
    {
      "cell_type": "code",
      "metadata": {
        "id": "zUVbWXuyyhoN"
      },
      "source": [
        "print('Olá Dev vulgo desenvolvedor ,este é um jogo com vários desafios que você deverá enfrentar ,\\n então sem enrolação imprimo com meu print('') os seus atributos base \\n')\n",
        "\n",
        "S=0\n",
        "D=0\n",
        "VS=0\n",
        "F=0\n",
        "print('saúde:{}\\ndinheiro:{}\\nvida social:{}\\nfama{}'.format(S,D,VS,F))"
      ],
      "execution_count": null,
      "outputs": []
    },
    {
      "cell_type": "markdown",
      "metadata": {
        "id": "sLC-cZxXyU6O"
      },
      "source": [
        "☲☲☲☲☲☲☲☲☲☲☲☲☲☲☲☲☲☲☲☲☲☲☲☲☲☲☲☲☲☲☲☲☲☲☲☲☲☲☲☲☲☲☲☲☲☲☲☲☲☲☲☲☲☲☲☲☲☲☲☲☲☲☲☲☲☲☲☲☲☲"
      ]
    },
    {
      "cell_type": "markdown",
      "metadata": {
        "id": "UBZvm2ELyjbI"
      },
      "source": [
        "Pronto , agora que determinamos os atributos e a parte inicial do jogo iremos fazer a melhor parte , que é o funcionamento do jogo !\n",
        "\n",
        "voltemos ao enunciado reeler ele e tentar colocar em formato de código\n",
        "\n",
        "Diante de cada situação-cenário, o personagem decide se aceita ou recusa (sim ou não). Cada decisão terá impactos em cada um dos itens da mochila. Exemplo: Situação-cenário 1: “Seu personagem recebeu a proposta de construir um novo aplicativo inovador de uma grande empresa!” Decisão: sim Resultado: ele ganhará pontos de dinheiro e fama, mas provavelmente perderá alguns (ou muitos) pontos de saúde e vida social.\n",
        "\n",
        "É você quem decidirá quais serão os cenários do jogo, bem como os valores de impacto nos itens da mochila para cada decisão.\n",
        "\n",
        "A mochila inicia com todos os itens em 10 (S = 10, D = 10, VS = 10 e F = 10). Seu jogo termina em vitória caso o jogador passe por todas as situações sem zerar nenhum item da mochila. Logicamente, ele perderá caso não alcance o equilíbrio e algum dos itens chegue ao valor ZERO!\n",
        "\n",
        "Agora iremos pegar os exemplos que pensamos la no comecinho , e que foi deixado anotado , e colocaremos em prática para a construção do jogo , usando if, else e elif"
      ]
    },
    {
      "cell_type": "code",
      "metadata": {
        "id": "yFIae8BPyxhS"
      },
      "source": [
        "i=0\n",
        "S=50\n",
        "D=0\n",
        "VS=0\n",
        "F=0\n",
        "\n",
        "print('Aqui estão os seus atributos \\nDinheiro:{} \\nSaúde:{} total 100 \\nVida Social:{} total 100 \\nFama:{} total 100'.format(D,S,VS,F))\n",
        "print(\"===================Cenário 1===========================\")\n",
        "print(\"Você acabou de se formar no IFRP\")\n",
        "print('Seu personagem recebeu a proposta de construir um novo aplicativo inovador de uma grande empresa!')\n",
        "cenarium=int(input('Você aceita ? 1-sim 2-não\\n'))\n",
        "if cenarium == 1:\n",
        "  print(\"você aceitou a empresa lhe deu R$5.000,00\")\n",
        "  print('\\n')\n",
        "  D += 5000\n",
        "  F += 30 \n",
        "  VS -= 10\n",
        "  S -= 10\n",
        "  print('Atualização dos atributos! \\nDinheiro:{} \\nSaúde:{}  \\nVida Social:{}  \\nFama:{}'.format(D,S,VS,F))\n",
        "elif cenarium == 2:\n",
        "  print(\"Você recusou\")\n",
        "  print('\\n')  \n",
        "  D -= 700\n",
        "  S += 10\n",
        "  VS += 10\n",
        "  print('Atualização dos atributos! \\nDinheiro:{} \\nSaúde:{}  \\nVida Social:{}  \\nFama:{}'.format(D,S,VS,F))"
      ],
      "execution_count": null,
      "outputs": []
    },
    {
      "cell_type": "markdown",
      "metadata": {
        "id": "5NIgfM6Sy7hg"
      },
      "source": [
        "Vamos interpretar pelo inglês , if significa se , else significa senão , e elif seria se senão.\n",
        "\n",
        "Então se o valor de cenarium for 1 imprimiria o if , se for 2 vai imprimir o elif , certinho?"
      ]
    },
    {
      "cell_type": "markdown",
      "metadata": {
        "id": "aXA8p8wSyUXb"
      },
      "source": [
        "☲☲☲☲☲☲☲☲☲☲☲☲☲☲☲☲☲☲☲☲☲☲☲☲☲☲☲☲☲☲☲☲☲☲☲☲☲☲☲☲☲☲☲☲☲☲☲☲☲☲☲☲☲☲☲☲☲☲☲☲☲☲☲☲☲☲☲☲☲☲"
      ]
    },
    {
      "cell_type": "markdown",
      "metadata": {
        "id": "LhZRC_LpzK5Z"
      },
      "source": [
        "E agora? falta a parte final!\n",
        "\n",
        "iremos criar um código final com um if e um else , usaremos o operador and , para evitar de escrever vários aninhados e declarações desnecessariamente."
      ]
    },
    {
      "cell_type": "code",
      "metadata": {
        "id": "2yP58S4izQEJ"
      },
      "source": [
        "i=0\n",
        "S=50\n",
        "D=0\n",
        "VS=0\n",
        "F=0\n",
        "print('Aqui estão os seus atributos \\nDinheiro:{} \\nSaúde:{} total 100 \\n Vida Social:{} total 100 \\nFama:{} total 100'.format(D,S,VS,F))\n",
        "print(\"===================Cenário 1===========================\")\n",
        "print(\"Você acabou de se formar no IFRP\")\n",
        "print('Seu personagem recebeu a proposta de construir um novo aplicativo inovador de uma grande empresa!')\n",
        "cenarium=int(input('Você aceita ? 1-sim 2-não'))\n",
        "\n",
        "if cenarium == 1:\n",
        "  print(\"você aceitou a empresa lhe deu R$5.000,00\")\n",
        "  D += 5000\n",
        "  F += 30 \n",
        "  VS -= 10\n",
        "  S -= 10\n",
        "  print('Atualização dos atributos! \\nDinheiro:{} \\nSaúde:{}  \\nVida Social:{}  \\nFama:{}'.format(D,S,VS,F))\n",
        "elif cenarium == 2:\n",
        "  print(\"Você recusou\")\n",
        "  D -= 700\n",
        "  S += 10\n",
        "  VS += 10\n",
        "  print('Atualização dos atributos! \\nDinheiro:{} \\nSaúde:{}  \\nVida Social:{}  \\nFama:{}'.format(D,S,VS,F))\n",
        "\n",
        "print(\"===================Cenário 2===========================\")\n",
        "print(\"Seu amigo que formou junto com você lhe sujere algo...\")\n",
        "print(\"Ele lhe sujere que você deixe esse mês para descanso\")\n",
        "cenariodois=int(input('Você aceita? 1-sim 2-não'))\n",
        "if cenariodois == 1:\n",
        "  S += 10\n",
        "  VS += 10\n",
        "  D -= 700\n",
        "  print('Você aceitou e teve um mes de descanso')\n",
        "  print('Atualização dos atributos! \\nDinheiro:{} \\nSaúde:{}  \\nVida Social:{}  \\nFama:{}'.format(D,S,VS,F))\n",
        "elif cenariodois == 2:\n",
        "  print('Nesse mês você se dedicou em procurar um emprego, e conseguiu')\n",
        "  print('você conseguiu um emprego na sua empresa tão sonhada')\n",
        "  print('Nesse mês você rendeu R$')\n",
        "  print('Atualização dos atributos! \\nDinheiro:{} \\nSaúde:{}  \\nVida Social:{}  \\nFama:{}'.format(D,S,VS,F))\n",
        "  D += 8000\n",
        "  S -= 30\n",
        "  VS -= 20\n",
        "  F += 50\n",
        "print('===============Resultado final================')\n",
        "if ( (S >= 10) and (F >= 10) and (VS >= 10) and (D >= 5000)):\n",
        "  print('Você conseguiu enfrentar os desafios')\n",
        "else:\n",
        "  print('Você perdeu :c')"
      ],
      "execution_count": null,
      "outputs": []
    },
    {
      "cell_type": "markdown",
      "metadata": {
        "id": "0ResNFRwzSd7"
      },
      "source": [
        "☲☲☲☲☲☲☲☲☲☲☲☲☲☲☲☲☲☲☲☲☲☲☲☲☲☲☲☲☲☲☲☲☲☲☲☲☲☲☲☲☲☲☲☲☲☲☲☲☲☲☲☲☲☲☲☲☲☲☲☲☲☲☲☲☲☲☲☲☲☲"
      ]
    },
    {
      "cell_type": "markdown",
      "metadata": {
        "id": "GVL2MynGzUpX"
      },
      "source": [
        "Pronto, agora que colocamos o final no jogo , falta uma coisinha , que é parte em que o jogador deseja ou não jogar novamente. Com isso iremos utilizar o While , que em ingles significa enquanto , para repetir o jogo caso o jogador queira jogar novamente"
      ]
    },
    {
      "cell_type": "code",
      "metadata": {
        "id": "MFshC40EzUKC"
      },
      "source": [
        "i=0\n",
        "S=50\n",
        "D=0\n",
        "VS=0\n",
        "F=0\n",
        "while i == 0:\n",
        "  print('Aqui estão os seus atributos \\nDinheiro:{} \\nSaúde:{} total 100 \\n Vida Social:{} total 100 \\nFama:{} total 100'.format(D,S,VS,F))\n",
        "  print(\"===================Cenário 1===========================\")\n",
        "  print(\"Você acabou de se formar no IFRP\")\n",
        "  print('Seu personagem recebeu a proposta de construir um novo aplicativo inovador de uma grande empresa!')\n",
        "  cenarium=int(input('Você aceita ? 1-sim 2-não'))\n",
        "  if cenarium == 1:\n",
        "    print(\"você aceitou a empresa lhe deu R$5.000,00\")\n",
        "    D += 5000\n",
        "    F += 30 \n",
        "    VS -= 10\n",
        "    S -= 10\n",
        "  elif cenarium == 2:\n",
        "    print(\"Você recusou\")\n",
        "    D -= 700\n",
        "    S += 10\n",
        "    VS += 10\n",
        "  print(\"===================Cenário 2===========================\")\n",
        "  print(\"Seu amigo que formou junto com você lhe sujere algo...\")\n",
        "  print(\"Ele lhe sugere que você deixe esse mês para descanso\")\n",
        "  cenariodois=int(input('Você aceita? 1-sim 2-não'))\n",
        "  if cenariodois == 1:\n",
        "    S += 10\n",
        "    VS += 10\n",
        "    D -= 700\n",
        "    print('Você aceitou e teve um mes de descanso')\n",
        "  elif cenariodois == 2:\n",
        "    print('Nesse mês você se dedicou em procurar um emprego, e conseguiu')\n",
        "    print('você conseguiu um emprego na sua empresa tão sonhada')\n",
        "    print('Nesse mês você rendeu R$')\n",
        "    D += 8000\n",
        "    S -= 30\n",
        "    VS -= 20\n",
        "    F += 50\n",
        "    #Resultado final\n",
        "  print('===============Resultado final================')\n",
        "  if ( (S >= 10) and (F >= 10) and (VS >= 10) and (D >= 5000)):\n",
        "    print('Você conseguiu enfrentar os desafios')\n",
        "    i=int(input('Você deseja jogar novamente 0-Sim 1-Não'))\n",
        "  else:\n",
        "    print('Você perdeu :c')\n",
        "    i=int(input('Você deseja jogar novamente 0-Sim 1-Não'))"
      ],
      "execution_count": null,
      "outputs": []
    },
    {
      "cell_type": "markdown",
      "metadata": {
        "id": "cQPU2aaUzYAE"
      },
      "source": [
        "Não se esqueça da **identação** na hora de querer adicionar while no seu codigo!\n",
        "Terá de apertar a tecla TAB nos elif e print para ficar bonitinho e rodar certinho "
      ]
    },
    {
      "cell_type": "markdown",
      "metadata": {
        "id": "mfBXYtkPzaY8"
      },
      "source": [
        "☲☲☲☲☲☲☲☲☲☲☲☲☲☲☲☲☲☲☲☲☲☲☲☲ Finalizando o código ☲☲☲☲☲☲☲☲☲☲☲☲☲☲☲☲☲☲☲☲☲☲☲☲☲☲☲☲☲☲"
      ]
    },
    {
      "cell_type": "markdown",
      "metadata": {
        "id": "lb6KAxL30X9u"
      },
      "source": [
        "E o menu ? cade a opção de sair ? onde está o botao de iniciar o jogo cade >( \n",
        "É o que iremos fazer agora! \n",
        "Com o \" def \" é muito facil organizar deste modo."
      ]
    },
    {
      "cell_type": "code",
      "metadata": {
        "id": "o-h8U_qr1SWX"
      },
      "source": [
        "def MostraCredito():\n",
        "  print(\"_-_-_-_-_-_-_-_-_-_-_-_-_-_-_-_-_-_-_-_-_-_-_-_-_-_-_-_\")\n",
        "  print(\"_-_-|obrigado por jogar                           |-_-_\")\n",
        "  print(\"_-_-|_____________________________________________|-_-_\")\n",
        "  print(\"_-_-|Criado e desenvolvido por:Juan Silva         |-_-_\")\n",
        "  print(\"_-_-|_____________________________________________|-_-_\")\n",
        "  print(\"_-_-_-_-_-_-_-_-_-_-_-_-_-_-_-_-_-_-_-_-_-_-_-_-_-_-_-_\")"
      ],
      "execution_count": null,
      "outputs": []
    },
    {
      "cell_type": "code",
      "metadata": {
        "id": "yN5Qcbxj1UHB"
      },
      "source": [
        "def Finaliza():\n",
        "  print(\"saindo do jogo...\")"
      ],
      "execution_count": null,
      "outputs": []
    },
    {
      "cell_type": "code",
      "metadata": {
        "id": "vdQwfEvI1VxU"
      },
      "source": [
        "def Jogo():\n",
        "  i=0\n",
        "  S=50\n",
        "  D=0\n",
        "  VS=0\n",
        "  F=0\n",
        "  while i == 0:\n",
        "    print('Aqui estão os seus atributos \\nDinheiro:{} \\nSaúde:{} total 100 \\n Vida Social:{} total 100 \\nFama:{} total 100'.format(D,S,VS,F))\n",
        "    print(\"===================Cenário 1===========================\")\n",
        "    print(\"Você acabou de se formar no IFRP\")\n",
        "    print('Seu personagem recebeu a proposta de construir um novo aplicativo inovador de uma grande empresa!')\n",
        "    cenarium=int(input('Você aceita ? 1-sim 2-não'))\n",
        "    if cenarium == 1:\n",
        "      print(\"você aceitou a empresa lhe deu R$5.000,00\")\n",
        "      D += 5000\n",
        "      F += 30 \n",
        "      VS -= 10\n",
        "      S -= 10\n",
        "    elif cenarium == 2:\n",
        "      print(\"Você recusou\")\n",
        "      D -= 700\n",
        "      S += 10\n",
        "      VS += 10\n",
        "    print(\"===================Cenário 2===========================\")\n",
        "    print(\"Seu amigo que formou junto com você lhe sujere algo...\")\n",
        "    print(\"Ele lhe sujere que você deixe esse mês para descanso\")\n",
        "    cenariodois=int(input('Você aceita? 1-sim 2-não'))\n",
        "    if cenariodois == 1:\n",
        "      S += 10\n",
        "      VS += 10\n",
        "      D -= 700\n",
        "      print('Você aceitou e teve um mes de descanso')\n",
        "    elif cenariodois == 2:\n",
        "      print('Nesse mês você se dedicou em procurar um emprego, e conseguiu')\n",
        "      print('você conseguiu um emprego na sua empresa tão sonhada')\n",
        "      print('Nesse mês você rendeu R$')\n",
        "      D += 8000\n",
        "      S -= 30\n",
        "      VS -= 20\n",
        "      F += 50\n",
        "    #Resultado final\n",
        "    print('===============Resultado final================')\n",
        "    if ( (S >= 10) and (F >= 10) and (VS >= 10) and (D >= 5000)):\n",
        "      print('Você conseguiu enfrentar os desafios')\n",
        "      i=int(input('Você deseja jogar novamente 0-Sim 1-Não'))\n",
        "    else:\n",
        "      print('Você perdeu :c')\n",
        "      i=int(input('Você deseja jogar novamente 0-Sim 1-Não'))"
      ],
      "execution_count": null,
      "outputs": []
    },
    {
      "cell_type": "code",
      "metadata": {
        "id": "phMZk2qj1alR"
      },
      "source": [
        "print('..........................................................')\n",
        "print('..Bem vindo(a) ao simulador de vida de um desenvolvedor ..')\n",
        "print('..........................................................')\n",
        "print('\\n')\n",
        "print(\"-\"*18)\n",
        "print(\"|1- Inicia Jogo  |\")\n",
        "print(\"-\"*18)\n",
        "print(\"|2- Creditos     |\")\n",
        "print(\"-\"*18)\n",
        "print(\"|3- Sair         |\")\n",
        "print(\"-\"*18)\n",
        "\n",
        "c=int(input(':...Informe uma opção...:'))\n",
        "if c == 1:\n",
        "  Jogo()\n",
        "elif c == 2:\n",
        "  MostraCredito()\n",
        "elif c == 3:\n",
        "  Finaliza()"
      ],
      "execution_count": null,
      "outputs": []
    },
    {
      "cell_type": "markdown",
      "metadata": {
        "id": "J1P6arP_18MV"
      },
      "source": [
        " As funções \"Def\" são blocos de código que realizam determinadas tarefas que precisariam ser executadas diversas vezes dentro de uma aplicação,o \"def\" nos ajuda com isso para que várias instruções não precisem ser repetidas.\n",
        " Pegando uma parte do codigo"
      ]
    },
    {
      "cell_type": "code",
      "metadata": {
        "id": "WlQ92oBS3VeS"
      },
      "source": [
        "MostraCredito()"
      ],
      "execution_count": null,
      "outputs": []
    },
    {
      "cell_type": "markdown",
      "metadata": {
        "id": "_l0zQ0Kq3Qx2"
      },
      "source": [
        "Vai rodar a função \"MostraCredito()\" caso tenha sido executada no colab, imprimindo o que contém dentro desta função\n"
      ]
    }
  ]
}